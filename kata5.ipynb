{
 "cells": [
  {
   "cell_type": "markdown",
   "metadata": {},
   "source": [
    "# Ejercio 1 Calulos "
   ]
  },
  {
   "cell_type": "code",
   "execution_count": 6,
   "metadata": {},
   "outputs": [
    {
     "name": "stdout",
     "output_type": "stream",
     "text": [
      "KM :  628949330\n",
      "MI: 390577533.93\n"
     ]
    }
   ],
   "source": [
    "planetaUno = 149597870\n",
    "planetaDos = 778547200\n",
    "\n",
    "distanciaKM = planetaDos - planetaUno\n",
    "print('KM : ',distanciaKM)\n",
    "\n",
    "distanciaMI = distanciaKM * 0.621\n",
    "print('MI:',distanciaMI)"
   ]
  },
  {
   "cell_type": "markdown",
   "metadata": {},
   "source": [
    "# Ejercicio 2 Con inputs "
   ]
  },
  {
   "cell_type": "code",
   "execution_count": 7,
   "metadata": {},
   "outputs": [],
   "source": [
    "planetaUnoIn = input('Introduzca la distancia del primer planeta km')\n",
    "planetaDosIN = input('Introduzca la distancia del segundo planeta en km')\n",
    "\n",
    "planetaUno = int(planetaUnoIn)\n",
    "planetaDos = int(planetaDosIN)"
   ]
  },
  {
   "cell_type": "code",
   "execution_count": 8,
   "metadata": {},
   "outputs": [
    {
     "name": "stdout",
     "output_type": "stream",
     "text": [
      "KM :  10\n",
      "MI: 6.21\n"
     ]
    }
   ],
   "source": [
    "distanciaKM = planetaDos - planetaUno\n",
    "print('KM : ',distanciaKM)\n",
    "\n",
    "distanciaMI = distanciaKM * 0.621\n",
    "print('MI:',abs(distanciaMI))"
   ]
  }
 ],
 "metadata": {
  "interpreter": {
   "hash": "2c948cddf896161a1d7f91c6ae189d218fd0ee3048e00bd5b13002b76c05dcd5"
  },
  "kernelspec": {
   "display_name": "Python 3.10.2 64-bit",
   "language": "python",
   "name": "python3"
  },
  "language_info": {
   "codemirror_mode": {
    "name": "ipython",
    "version": 3
   },
   "file_extension": ".py",
   "mimetype": "text/x-python",
   "name": "python",
   "nbconvert_exporter": "python",
   "pygments_lexer": "ipython3",
   "version": "3.10.2"
  },
  "orig_nbformat": 4
 },
 "nbformat": 4,
 "nbformat_minor": 2
}
