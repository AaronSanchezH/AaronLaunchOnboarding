{
 "cells": [
  {
   "cell_type": "markdown",
   "metadata": {},
   "source": [
    "# Alerta de asteroide mayor a 25 "
   ]
  },
  {
   "cell_type": "code",
   "execution_count": 2,
   "metadata": {},
   "outputs": [
    {
     "name": "stdout",
     "output_type": "stream",
     "text": [
      "!Cuidado Asteroide!\n"
     ]
    }
   ],
   "source": [
    "\n",
    "\n",
    "asteroide = 49\n",
    "if asteroide > 25:\n",
    "    print('!Cuidado Asteroide!')\n",
    "else:\n",
    "    print('Todo Bien :)')"
   ]
  },
  {
   "cell_type": "markdown",
   "metadata": {},
   "source": [
    "# Asteroide Con Rayo de luz"
   ]
  },
  {
   "cell_type": "code",
   "execution_count": 4,
   "metadata": {},
   "outputs": [
    {
     "name": "stdout",
     "output_type": "stream",
     "text": [
      "Se ve rayo de luz\n"
     ]
    }
   ],
   "source": [
    "\n",
    "\n",
    "asteroide = 20\n",
    "if asteroide >= 20:\n",
    "    print('Se ve rayo de luz')\n",
    "else:\n",
    "    print('Todo Bien :)')"
   ]
  },
  {
   "cell_type": "markdown",
   "metadata": {},
   "source": [
    "# Asteroide Velocidad y Alerta  "
   ]
  },
  {
   "cell_type": "code",
   "execution_count": 5,
   "metadata": {},
   "outputs": [
    {
     "name": "stdout",
     "output_type": "stream",
     "text": [
      "Se ve rayo de luz\n"
     ]
    }
   ],
   "source": [
    "\n",
    "\n",
    "velocidadAsteroide = 25\n",
    "tamanioAsteroide = 40\n",
    "\n",
    "if velocidadAsteroide > 25 and tamanioAsteroide > 25:\n",
    "    print('!Cuidado Asteroide!')\n",
    "elif velocidadAsteroide >= 20:\n",
    "    print('Se ve rayo de luz')\n",
    "elif velocidadAsteroide < 25:\n",
    "    print('Todo Bien :)')\n",
    "else:\n",
    "    print('Todo Bien :)')"
   ]
  }
 ],
 "metadata": {
  "interpreter": {
   "hash": "2c948cddf896161a1d7f91c6ae189d218fd0ee3048e00bd5b13002b76c05dcd5"
  },
  "kernelspec": {
   "display_name": "Python 3.10.2 64-bit",
   "language": "python",
   "name": "python3"
  },
  "language_info": {
   "codemirror_mode": {
    "name": "ipython",
    "version": 3
   },
   "file_extension": ".py",
   "mimetype": "text/x-python",
   "name": "python",
   "nbconvert_exporter": "python",
   "pygments_lexer": "ipython3",
   "version": "3.10.2"
  },
  "orig_nbformat": 4
 },
 "nbformat": 4,
 "nbformat_minor": 2
}
